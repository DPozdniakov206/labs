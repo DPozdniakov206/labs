{
 "cells": [
  {
   "metadata": {
    "ExecuteTime": {
     "end_time": "2024-12-16T20:46:07.107772Z",
     "start_time": "2024-12-16T20:45:57.805183Z"
    }
   },
   "cell_type": "code",
   "source": [
    "def is_prime(num):\n",
    "    if num < 2:\n",
    "        return False\n",
    "    for i in range(2, int(num ** 0.5) + 1):\n",
    "        if num % i == 0:\n",
    "            return False\n",
    "    return True\n",
    "\n",
    "def task_9():\n",
    "    try:\n",
    "        numbers = list(map(int, input(\"Введіть числа через пробіл: \").split()))\n",
    "\n",
    "        non_primes = [num for num in numbers if not is_prime(num)]\n",
    "\n",
    "        non_primes.sort(reverse=True)\n",
    "\n",
    "        print(non_primes)\n",
    "    except ValueError:\n",
    "        print(\"Помилка! Введіть лише цілі числа.\")\n",
    "\n",
    "print(\"Тест 1:\")\n",
    "task_9()\n",
    "\n",
    "print(\"Тест 2:\")\n",
    "task_9()\n"
   ],
   "id": "d3d328f140b193d6",
   "outputs": [
    {
     "name": "stdout",
     "output_type": "stream",
     "text": [
      "Тест 1:\n",
      "[35, 18, 15, 12]\n",
      "Тест 2:\n",
      "[34, 22, 15, 6, 4, 1, 0]\n"
     ]
    }
   ],
   "execution_count": 4
  },
  {
   "metadata": {},
   "cell_type": "markdown",
   "source": [
    "# Чеська Республіка 🇨🇿\n",
    "\n",
    "## Загальні відомості\n",
    "- **Площа**: 78,866 км²\n",
    "- **Населення**: *10.7 млн* (станом на 2023 рік)\n",
    "- **Столиця**: **Прага**\n",
    "- **Державний устрій**: Парламентська республіка\n",
    "\n",
    "---\n",
    "\n",
    "## Визначні пам'ятки\n",
    "### Культура та архітектура\n",
    "1. **Карлів міст** – середньовічний міст у Празі.\n",
    "2. **Празький Град** – резиденція президента Чеської Республіки.\n",
    "\n",
    "### Природні пам'ятки\n",
    "- Національний парк Шумава\n",
    "- Скелі Адршпах\n",
    "\n",
    "---\n",
    "\n",
    "## Відомі особистості\n",
    "| **Ім'я**              | **Досягнення**                          |\n",
    "|------------------------|----------------------------------------|\n",
    "| Ян Гус                | Реформатор церкви                     |\n",
    "| Антонін Дворжак       | Композитор                            |\n",
    "| Франц Кафка           | Письменник                           |\n",
    "\n",
    "---\n",
    "\n",
    "## **Зображення**\n",
    "### Карлів міст\n",
    "![Карлів міст](https://upload.wikimedia.org/wikipedia/commons/3/3e/Charles_Bridge_-_Prague.jpg)\n",
    "\n",
    "### Герб Чеської Республіки\n",
    "<img src=\"https://upload.wikimedia.org/wikipedia/commons/thumb/a/a9/Coat_of_arms_of_the_Czech_Republic.svg/200px-Coat_of_arms_of_the_Czech_Republic.svg.png\" width=\"150\">\n",
    "\n",
    "---\n",
    "\n",
    "## Прапор Чеської Республіки за допомогою SVG\n",
    "```html\n",
    "<svg width=\"300\" height=\"200\">\n",
    "  <!-- Синій трикутник -->\n",
    "  <polygon points=\"0,0 150,100 0,200\" style=\"fill:blue\" />\n",
    "  <!-- Білий верхній прямокутник -->\n",
    "  <rect x=\"0\" y=\"0\" width=\"300\" height=\"100\" style=\"fill:white\" />\n",
    "  <!-- Червоний нижній прямокутник -->\n",
    "  <rect x=\"0\" y=\"100\" width=\"300\" height=\"100\" style=\"fill:red\" />\n",
    "</svg>\n"
   ],
   "id": "3f033f4c6706b7e6"
  },
  {
   "metadata": {},
   "cell_type": "markdown",
   "source": "",
   "id": "a5b8e30fff84e732"
  }
 ],
 "metadata": {
  "kernelspec": {
   "display_name": "Python 3",
   "language": "python",
   "name": "python3"
  },
  "language_info": {
   "codemirror_mode": {
    "name": "ipython",
    "version": 2
   },
   "file_extension": ".py",
   "mimetype": "text/x-python",
   "name": "python",
   "nbconvert_exporter": "python",
   "pygments_lexer": "ipython2",
   "version": "2.7.6"
  }
 },
 "nbformat": 4,
 "nbformat_minor": 5
}
